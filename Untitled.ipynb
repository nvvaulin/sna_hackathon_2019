{
 "cells": [
  {
   "cell_type": "code",
   "execution_count": 1,
   "metadata": {},
   "outputs": [],
   "source": [
    "import mxnet as mx"
   ]
  },
  {
   "cell_type": "code",
   "execution_count": null,
   "metadata": {},
   "outputs": [],
   "source": [
    "\n",
    "def seq2seq(net,seq_len,feedback=mx.var('feedback')):\n",
    "    def make_layer(data,num_features,name,dop=0.5):\n",
    "        data = mx.sym.FullyConnected(data,num_hidden=num_features,name='fc'+name)\n",
    "        data = mx.sym.BatchNorm(data,name='bn'+name)\n",
    "        data = mx.sym.Activation(data,name='softrelu'+name,act_type='softrelu')\n",
    "        return mx.sym.Dropout(data,p=dop)\n",
    "    res = mx.sym.concat(feedback,1-feedback,dim=1)\n",
    "    res = mx.sym.broadcast_mul(mx.sym.expand_dims(net,1),mx.sym.expand_dims(feedback,2)).reshape((0,-1))\n",
    "    res = make_layer(res,256,'m1')\n",
    "    res = res.reshape((0,-1,seq_len))\n",
    "    res = mx.sym.broadcast_minus(res.sum(-1,keep_dims=True),res)/seq_len\n",
    "    res = res.reshape((0,-1))\n",
    "    res = mx.sym.concat(res,net,dim=1)\n",
    "    res = make_layer(res,512,'m2')\n",
    "    return res\n",
    "    \n",
    "    "
   ]
  }
 ],
 "metadata": {
  "kernelspec": {
   "display_name": "Python 3",
   "language": "python",
   "name": "python3"
  },
  "language_info": {
   "codemirror_mode": {
    "name": "ipython",
    "version": 3
   },
   "file_extension": ".py",
   "mimetype": "text/x-python",
   "name": "python",
   "nbconvert_exporter": "python",
   "pygments_lexer": "ipython3",
   "version": "3.5.2"
  }
 },
 "nbformat": 4,
 "nbformat_minor": 2
}
